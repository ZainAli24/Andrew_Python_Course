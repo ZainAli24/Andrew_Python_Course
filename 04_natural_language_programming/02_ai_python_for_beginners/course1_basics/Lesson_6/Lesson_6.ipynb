{
  "cells": [
    {
      "cell_type": "markdown",
      "metadata": {
        "id": "2B9SLMn0PT_M"
      },
      "source": [
        "# Lesson 6: Data in Python"
      ]
    },
    {
      "cell_type": "markdown",
      "metadata": {
        "id": "tejhazJsPT_O"
      },
      "source": [
        "There are different types of data in Python. Here, you will see how text and numbers are used in Python."
      ]
    },
    {
      "cell_type": "markdown",
      "metadata": {
        "id": "t2wMP4RiPT_P"
      },
      "source": [
        "## Strings"
      ]
    },
    {
      "cell_type": "markdown",
      "metadata": {
        "id": "-LfHtHvJPT_P"
      },
      "source": [
        "Strings are used to store and manipulate text. As you see here, strings are written inside of quotes and can contain letters, numbers, punctuation marks, and other special characters. Run the following cells to print these four different strings."
      ]
    },
    {
      "cell_type": "code",
      "execution_count": 1,
      "metadata": {
        "id": "wkZxB15yPT_Q",
        "outputId": "9ef0f59c-e738-405c-840a-4304d354c483",
        "colab": {
          "base_uri": "https://localhost:8080/"
        }
      },
      "outputs": [
        {
          "output_type": "stream",
          "name": "stdout",
          "text": [
            "Hello, World\n"
          ]
        }
      ],
      "source": [
        "print(\"Hello, World\")"
      ]
    },
    {
      "cell_type": "code",
      "execution_count": 2,
      "metadata": {
        "id": "xyRjl-nNPT_R",
        "outputId": "9b795e4f-f517-4de5-9204-02235e0ffcc1",
        "colab": {
          "base_uri": "https://localhost:8080/"
        }
      },
      "outputs": [
        {
          "output_type": "stream",
          "name": "stdout",
          "text": [
            "My favorite drink is Earl Grey tea.\n"
          ]
        }
      ],
      "source": [
        "print(\"My favorite drink is Earl Grey tea.\")"
      ]
    },
    {
      "cell_type": "code",
      "execution_count": 3,
      "metadata": {
        "id": "m7TXKgdEPT_R",
        "outputId": "0b1d882e-b929-401d-ebb8-7c3484f8c0b4",
        "colab": {
          "base_uri": "https://localhost:8080/"
        }
      },
      "outputs": [
        {
          "output_type": "stream",
          "name": "stdout",
          "text": [
            "¯\\_(ツ)_/¯\n"
          ]
        }
      ],
      "source": [
        "print(\"¯\\_(ツ)_/¯\")"
      ]
    },
    {
      "cell_type": "code",
      "execution_count": 4,
      "metadata": {
        "id": "mJd1gcNHPT_S",
        "outputId": "ab62d04c-4bc9-4f8b-e5cb-69065a30b797",
        "colab": {
          "base_uri": "https://localhost:8080/"
        }
      },
      "outputs": [
        {
          "output_type": "stream",
          "name": "stdout",
          "text": [
            "2.99\n"
          ]
        }
      ],
      "source": [
        "print(\"2.99\")"
      ]
    },
    {
      "cell_type": "markdown",
      "metadata": {
        "id": "7iWZGmJEPT_S"
      },
      "source": [
        "## Multiline strings"
      ]
    },
    {
      "cell_type": "markdown",
      "metadata": {
        "id": "1adZB5bYPT_S"
      },
      "source": [
        "If you use triple quotation marks, you can store a multiline string. These strings can span more than one line. When you run the following cell, you will see how the spaces in the second line are actually read as characters for the string."
      ]
    },
    {
      "cell_type": "code",
      "execution_count": 7,
      "metadata": {
        "id": "FzldtBqmPT_T",
        "outputId": "4923dc7c-10b5-4bcb-de30-8f3fede02e9b",
        "colab": {
          "base_uri": "https://localhost:8080/"
        }
      },
      "outputs": [
        {
          "output_type": "stream",
          "name": "stdout",
          "text": [
            "Hello, World!\n",
            "      It's great to be here!\n"
          ]
        }
      ],
      "source": [
        "print(\"\"\"Hello, World!\n",
        "      It's great to be here!\"\"\")"
      ]
    },
    {
      "cell_type": "markdown",
      "metadata": {
        "id": "ezjsODwsPT_T"
      },
      "source": [
        "Trying to define a multiline string using single quotes will lead to errors."
      ]
    },
    {
      "cell_type": "code",
      "execution_count": 4,
      "metadata": {
        "id": "x75g5JijPT_T",
        "outputId": "1263606c-bd2f-4c31-e80b-9bf22e14a725",
        "colab": {
          "base_uri": "https://localhost:8080/"
        }
      },
      "outputs": [
        {
          "output_type": "stream",
          "name": "stdout",
          "text": [
            "Hello, World!       It's great to be here!      My name is ZAIN\n"
          ]
        }
      ],
      "source": [
        "print(\"Hello, World! \\\n",
        "      It's great to be here!\\\n",
        "      My name is ZAIN\")"
      ]
    },
    {
      "cell_type": "markdown",
      "metadata": {
        "id": "cvBI_-hzPT_U"
      },
      "source": [
        "## The type() function"
      ]
    },
    {
      "cell_type": "markdown",
      "metadata": {
        "id": "fthKqU_oPT_U"
      },
      "source": [
        "In Python, you can check the type of any data that you are using. To check the data type, you can use the `type()` function. When you run the next cell, you will retrieve the type for the string `\"Andrew\"`."
      ]
    },
    {
      "cell_type": "code",
      "execution_count": 6,
      "metadata": {
        "id": "huKDeg2cPT_U",
        "outputId": "7222a62b-baf1-4a22-d70a-2819ebec0832",
        "colab": {
          "base_uri": "https://localhost:8080/"
        }
      },
      "outputs": [
        {
          "output_type": "execute_result",
          "data": {
            "text/plain": [
              "str"
            ]
          },
          "metadata": {},
          "execution_count": 6
        }
      ],
      "source": [
        "type(\"Sammer\")"
      ]
    },
    {
      "cell_type": "code",
      "source": [
        "username = {\"name\":\"ZAIN\" , \"age\":20}\n",
        "type(username)"
      ],
      "metadata": {
        "id": "sxOijiMBF_Vz",
        "outputId": "0812ff09-549b-4781-c46d-3e43199b4f6e",
        "colab": {
          "base_uri": "https://localhost:8080/"
        }
      },
      "execution_count": 15,
      "outputs": [
        {
          "output_type": "execute_result",
          "data": {
            "text/plain": [
              "dict"
            ]
          },
          "metadata": {},
          "execution_count": 15
        }
      ]
    },
    {
      "cell_type": "markdown",
      "metadata": {
        "id": "ObYToUvePT_U"
      },
      "source": [
        "Python returned `str`, which is short for string. Let's check the type for a multiline string:"
      ]
    },
    {
      "cell_type": "code",
      "execution_count": 16,
      "metadata": {
        "id": "Kzb2edLtPT_V",
        "outputId": "af7344f6-e3dc-4ead-d1da-aa8b1795a6c5",
        "colab": {
          "base_uri": "https://localhost:8080/"
        }
      },
      "outputs": [
        {
          "output_type": "execute_result",
          "data": {
            "text/plain": [
              "str"
            ]
          },
          "metadata": {},
          "execution_count": 16
        }
      ],
      "source": [
        "type(\"\"\"\n",
        "Numbers, text, and truth,\n",
        "Strings, ints, and floats in our code,\n",
        "Data shapes our path\n",
        "\"\"\")"
      ]
    },
    {
      "cell_type": "markdown",
      "metadata": {
        "id": "L6XHPMO4PT_V"
      },
      "source": [
        "This also returns `str`, since it is also a string. Let's try a number within quotation marks:"
      ]
    },
    {
      "cell_type": "code",
      "execution_count": 17,
      "metadata": {
        "id": "ViP2Q3jPPT_V",
        "outputId": "2b9244eb-0cc1-431a-b298-87763bd53e5c",
        "colab": {
          "base_uri": "https://localhost:8080/"
        }
      },
      "outputs": [
        {
          "output_type": "execute_result",
          "data": {
            "text/plain": [
              "str"
            ]
          },
          "metadata": {},
          "execution_count": 17
        }
      ],
      "source": [
        "type(\"2.99\")"
      ]
    },
    {
      "cell_type": "markdown",
      "metadata": {
        "id": "p2kFKEAwPT_W"
      },
      "source": [
        "This is also a string, even though it looks like a number. By using quotation marks you're telling Python to treat it as text, rather than a number. What about a number without quotes?"
      ]
    },
    {
      "cell_type": "code",
      "execution_count": 18,
      "metadata": {
        "id": "kSO1q6WbPT_W",
        "outputId": "51072fff-a715-448f-c0c5-43c01882b349",
        "colab": {
          "base_uri": "https://localhost:8080/"
        }
      },
      "outputs": [
        {
          "output_type": "execute_result",
          "data": {
            "text/plain": [
              "int"
            ]
          },
          "metadata": {},
          "execution_count": 18
        }
      ],
      "source": [
        "type(100)"
      ]
    },
    {
      "cell_type": "markdown",
      "metadata": {
        "id": "53F0ZokwPT_W"
      },
      "source": [
        "This time you get `int`, which is short for integer. Integers are the positive and negative whole numbers, like 42, 100, -9, and 0. Since there are no quotes around the number Python assumes this is numerical data, and since there is no decimal place on this number, it interprets it as an integer. Now, let's try a number that does have decimal places:"
      ]
    },
    {
      "cell_type": "code",
      "execution_count": 19,
      "metadata": {
        "id": "k5pmTG0YPT_W",
        "outputId": "ac7a82e4-6cb0-4142-94dc-7cf0f1144209",
        "colab": {
          "base_uri": "https://localhost:8080/"
        }
      },
      "outputs": [
        {
          "output_type": "execute_result",
          "data": {
            "text/plain": [
              "float"
            ]
          },
          "metadata": {},
          "execution_count": 19
        }
      ],
      "source": [
        "type(2.99)"
      ]
    },
    {
      "cell_type": "markdown",
      "metadata": {
        "id": "rvNa1mvTPT_W"
      },
      "source": [
        "The function type gives `float`, which is the data type used to store floating point numbers. Floating point numbers are positive and negative numbers that include a decimal place, like 3.14, 2.99, and -0.003."
      ]
    },
    {
      "cell_type": "markdown",
      "metadata": {
        "id": "MPnXPMnoPT_X"
      },
      "source": [
        "## Python as a calculator!"
      ]
    },
    {
      "cell_type": "markdown",
      "metadata": {
        "id": "qWidwqC5PT_X"
      },
      "source": [
        "Python works great for quick arithmetic operations. For instance, if you had a lemonade stand, and wanted to compute the total number of sales you made through the last 12 months, you can use Python like this:"
      ]
    },
    {
      "cell_type": "code",
      "execution_count": null,
      "metadata": {
        "id": "zfqqwFdGPT_X"
      },
      "outputs": [],
      "source": [
        "print(28+35+43+50+65+70+68+66+75+80+95)"
      ]
    },
    {
      "cell_type": "code",
      "source": [
        "# prompt: print(28+35+43+50+65+70+68+66+75+80+95)  show every addition step in comment\n",
        "\n",
        "print(28+35+43+50+65+70+68+66+75+80+95)\n",
        "# 28 + 35 = 63\n",
        "# 63 + 43 = 106\n",
        "# 106 + 50 = 156\n",
        "# 156 + 65 = 221\n",
        "# 221 + 70 = 291\n",
        "# 291 + 68 = 359\n",
        "# 359 + 66 = 425\n",
        "# 425 + 75 = 500\n",
        "# 500 + 80 = 580\n",
        "# 580 + 95 = 675"
      ],
      "metadata": {
        "id": "j4Obw7FLJ900",
        "outputId": "0190afeb-0e0a-41d4-a808-56259b992351",
        "colab": {
          "base_uri": "https://localhost:8080/"
        }
      },
      "execution_count": 20,
      "outputs": [
        {
          "output_type": "stream",
          "name": "stdout",
          "text": [
            "675\n"
          ]
        }
      ]
    },
    {
      "cell_type": "markdown",
      "metadata": {
        "id": "hdJwfUfNPT_X"
      },
      "source": [
        "As another example, you can perform more advanced math, like computing the compound interest after 10 years at a rate of 5%. To do that, you can compute 1.05 to the power of 10. Not sure how to do it in Python? You can use the Chatbot!"
      ]
    },
    {
      "cell_type": "markdown",
      "metadata": {
        "id": "C2_Ew0qBPT_X"
      },
      "source": [
        "<p style=\"background-color:#F5C780; padding:15px\"> 🤖 <b>Use the Chatbot</b>: How do I compute 1.05 to the power of 10?\n",
        "</p>"
      ]
    },
    {
      "cell_type": "code",
      "execution_count": 21,
      "metadata": {
        "id": "JkhFr3fBPT_Y",
        "outputId": "dcf4053f-8384-45d4-8f5a-7839413d6dd3",
        "colab": {
          "base_uri": "https://localhost:8080/"
        }
      },
      "outputs": [
        {
          "output_type": "execute_result",
          "data": {
            "text/plain": [
              "1.628894626777442"
            ]
          },
          "metadata": {},
          "execution_count": 21
        }
      ],
      "source": [
        "# prompt: compute 1.05 to the power of 10 explain like 5 year old\n",
        "\n",
        "# 1.05 to the power of 10 means 1.05 multiplied by itself 10 times.\n",
        "\n",
        "# Imagine you have a magic money tree.  Every year, your money grows by 5% (that's 1.05 times bigger).\n",
        "\n",
        "# After 1 year:  You start with $1, it grows to $1 * 1.05 = $1.05\n",
        "# After 2 years: Your $1.05 grows to $1.05 * 1.05 = $1.1025\n",
        "# ...and so on, for 10 years.\n",
        "\n",
        "# Python makes this easy:\n",
        "\n",
        "result = 1.05 ** 10\n",
        "result"
      ]
    },
    {
      "cell_type": "code",
      "source": [
        "# prompt: compute the compound interest after 10 years at a rate of 5% and explain like 4\n",
        "\n",
        "# Compound interest calculation\n",
        "principal = 1  # Initial amount\n",
        "rate = 0.05  # Annual interest rate (5%)\n",
        "time = 10  # Number of years\n",
        "\n",
        "amount = principal * (1 + rate) ** time\n",
        "print(amount)"
      ],
      "metadata": {
        "id": "6wdZewaLL9Fl",
        "outputId": "9e2bb0a3-316d-4df5-fc63-29fa13b1902e",
        "colab": {
          "base_uri": "https://localhost:8080/"
        }
      },
      "execution_count": 23,
      "outputs": [
        {
          "output_type": "stream",
          "name": "stdout",
          "text": [
            "1.628894626777442\n"
          ]
        }
      ]
    },
    {
      "cell_type": "markdown",
      "metadata": {
        "id": "HvzbZ0_8PT_Y"
      },
      "source": [
        "### Order of operations"
      ]
    },
    {
      "cell_type": "code",
      "source": [
        "# Order of Operations in Python\n",
        "\n",
        "# | Rule Component | Operators |\n",
        "# |---|---|\n",
        "# | 1st | Parentheses | `()` |\n",
        "# | 2nd | Exponents | `**` |\n",
        "# | 3rd | Multiplication and Division | `*`, `/` |\n",
        "# | 4th | Addition and Subtraction | `+`, `-` |"
      ],
      "metadata": {
        "id": "jsrnER_lW7vx"
      },
      "execution_count": 34,
      "outputs": []
    },
    {
      "cell_type": "markdown",
      "metadata": {
        "id": "wIMdLwSUPT_Y"
      },
      "source": [
        "The order of operations in Python is the same as in arithmetic. First, you compute parentheses, then exponents, then you multiply and divide (from left to right), and finally, you add and subtract (from left to right).\n",
        "\n",
        "So, if you are trying to convert from Fahrenheit to Celsius, the following cell will give you an incorrect answer:"
      ]
    },
    {
      "cell_type": "code",
      "execution_count": 35,
      "metadata": {
        "id": "QgZB0_M2PT_Y",
        "outputId": "383a9619-24fc-49d4-f2cb-d63b5f9abf77",
        "colab": {
          "base_uri": "https://localhost:8080/"
        }
      },
      "outputs": [
        {
          "output_type": "stream",
          "name": "stdout",
          "text": [
            "57.22222222222222\n"
          ]
        }
      ],
      "source": [
        "print(75 - 32 * 5 / 9)"
      ]
    },
    {
      "cell_type": "code",
      "source": [
        "# prompt: print(75 - 32 * 5 / 9)  please conclude steps in comments\n",
        "\n",
        "print(75 - 32 * 5 / 9)\n",
        "# 1. Multiplication: 32 * 5 = 160\n",
        "# 2. Division: 160 / 9 = 17.777...\n",
        "# 3. Subtraction: 75 - 17.777... = 57.222..."
      ],
      "metadata": {
        "id": "NGoMIq4JbLZz"
      },
      "execution_count": null,
      "outputs": []
    },
    {
      "cell_type": "markdown",
      "metadata": {
        "id": "b3Z0-2UJPT_Z"
      },
      "source": [
        "Whereas the computation in this cell is correct."
      ]
    },
    {
      "cell_type": "code",
      "execution_count": 38,
      "metadata": {
        "id": "ShLYb4vXPT_Z",
        "outputId": "9af6edf5-aa30-481b-8f02-a9babfe1892a",
        "colab": {
          "base_uri": "https://localhost:8080/"
        }
      },
      "outputs": [
        {
          "output_type": "stream",
          "name": "stdout",
          "text": [
            "23.88888888888889\n"
          ]
        }
      ],
      "source": [
        "print((75 - 32) * 5 / 9)"
      ]
    },
    {
      "cell_type": "markdown",
      "metadata": {
        "id": "XGPZtfCiPT_Z"
      },
      "source": [
        "### Try for yourself!\n",
        "Try printing text with mixed numbers and letters, or just symbols, then check the type. Try multiline strings using the triple quotes. If you make any mistakes, as the chatbot for help."
      ]
    },
    {
      "cell_type": "code",
      "execution_count": 36,
      "metadata": {
        "id": "jPdMEENoPT_Z",
        "outputId": "29d63e4b-e3fb-40b7-e3f1-804d4287d7ec",
        "colab": {
          "base_uri": "https://localhost:8080/"
        }
      },
      "outputs": [
        {
          "output_type": "stream",
          "name": "stdout",
          "text": [
            "\n",
            "12o2keo2k1 &*6$$?SD \n",
            "\"SODFWEOK\"\n",
            "\n"
          ]
        }
      ],
      "source": [
        "print(\"\"\"\n",
        "12o2keo2k1 &*6$$?SD\n",
        "\"SODFWEOK\"\n",
        "\"\"\")"
      ]
    },
    {
      "cell_type": "code",
      "execution_count": 37,
      "metadata": {
        "id": "qObtIN1RPT_a",
        "outputId": "6567a4a4-1834-429b-a2ff-f85c01dee0fe",
        "colab": {
          "base_uri": "https://localhost:8080/"
        }
      },
      "outputs": [
        {
          "output_type": "execute_result",
          "data": {
            "text/plain": [
              "str"
            ]
          },
          "metadata": {},
          "execution_count": 37
        }
      ],
      "source": [
        "type(\"\"\"\n",
        "12o2keo2k1 &*6$$?SD\n",
        "\"SODFWEOK\"\n",
        "\"\"\")"
      ]
    },
    {
      "cell_type": "markdown",
      "metadata": {
        "id": "QwPXOSm_PT_g"
      },
      "source": [
        "Fix the errors in the following code cells."
      ]
    },
    {
      "cell_type": "code",
      "execution_count": 39,
      "metadata": {
        "id": "2sRPppDaPT_h",
        "outputId": "e04fd624-064f-4352-b8d7-858c733014b0",
        "colab": {
          "base_uri": "https://localhost:8080/"
        }
      },
      "outputs": [
        {
          "output_type": "stream",
          "name": "stdout",
          "text": [
            "There are 366 days in a leap year\n"
          ]
        }
      ],
      "source": [
        "# Fix the error in the following code\n",
        "print(\"There are 366 days in a leap year\")"
      ]
    },
    {
      "cell_type": "code",
      "execution_count": 40,
      "metadata": {
        "id": "_YcgtBnYPT_h",
        "outputId": "32fe66ab-5a96-4566-89a4-c34f0d1e56ab",
        "colab": {
          "base_uri": "https://localhost:8080/"
        }
      },
      "outputs": [
        {
          "output_type": "stream",
          "name": "stdout",
          "text": [
            "There are 366 \n",
            "days in a leap year\n"
          ]
        }
      ],
      "source": [
        "# Fix the error in the following code\n",
        "print(\"\"\"There are 366\n",
        "days in a leap year\"\"\")"
      ]
    },
    {
      "cell_type": "markdown",
      "metadata": {
        "id": "0fVKte79PT_h"
      },
      "source": [
        "A foot was defined as exactly 0.3048 meters in 1959. Convert 6 feet to meters."
      ]
    },
    {
      "cell_type": "code",
      "execution_count": 1,
      "metadata": {
        "id": "5Ih6Jw6BPT_h",
        "outputId": "3ace1350-98a3-419d-e608-c39c938be924",
        "colab": {
          "base_uri": "https://localhost:8080/"
        }
      },
      "outputs": [
        {
          "output_type": "stream",
          "name": "stdout",
          "text": [
            "Convert 6 feet to meters\n",
            "1.8288000000000002\n"
          ]
        }
      ],
      "source": [
        "# Write code to convert 6 feet to meters\n",
        "print(\"Convert 6 feet to meters\")\n",
        "print(0.3048 * 6)"
      ]
    },
    {
      "cell_type": "code",
      "source": [
        "# prompt: A foot was defined as exactly 0.3048 meters in 1959. Convert 6 feet to meters.\n",
        "\n",
        "feet = 6\n",
        "meters_per_foot = 0.3048\n",
        "meters = feet * meters_per_foot\n",
        "meters"
      ],
      "metadata": {
        "id": "U8Xz4TlIR4pM",
        "outputId": "15f8f0ec-236e-4e64-cfd7-adea9431fbb7",
        "colab": {
          "base_uri": "https://localhost:8080/"
        }
      },
      "execution_count": 2,
      "outputs": [
        {
          "output_type": "execute_result",
          "data": {
            "text/plain": [
              "1.8288000000000002"
            ]
          },
          "metadata": {},
          "execution_count": 2
        }
      ]
    },
    {
      "cell_type": "code",
      "source": [
        "# prompt: print(75 - 5 / 9 * 32 / (8 * 11) -9 / 2 + 9 * 9**2 .9 + 9 * (2 * 6) -6) explain this equation according to PEMDAS ,\n",
        "# and capture all pemdas eqaution\n",
        "\n",
        "print(75 - 5 / 9 * 32 / (8 * 11) - 9 / 2 + 9 * 9**2.9 + 9 * (2 * 6) - 6)\n",
        "\n",
        "# Explanation with PEMDAS:\n",
        "\n",
        "# 1. Parentheses:\n",
        "# (8 * 11) = 88\n",
        "# (2 * 6) = 12\n",
        "\n",
        "# 2. Exponents:\n",
        "# 9**2.9 = 531.4413...\n",
        "\n",
        "# 3. Multiplication and Division (from left to right):\n",
        "# 5 / 9 = 0.555...\n",
        "# 0.555... * 32 = 17.777...\n",
        "# 17.777... / 88 = 0.2019...\n",
        "# 9 / 2 = 4.5\n",
        "# 9 * 531.4413... = 4782.972...\n",
        "# 9 * 12 = 108\n",
        "\n",
        "# 4. Addition and Subtraction (from left to right):\n",
        "# 75 - 0.2019... = 74.798...\n",
        "# 74.798... - 4.5 = 70.298...\n",
        "# 70.298... + 4782.972... = 4853.270...\n",
        "# 4853.270... + 108 = 4961.270...\n",
        "# 4961.270... - 6 = 4955.270...\n",
        "\n",
        "\n",
        "# Equation breakdown with intermediate steps:\n",
        "# 1. (8 * 11) = 88\n",
        "# 2. (2 * 6) = 12\n",
        "# 3. 9**2.9 = 531.4413...\n",
        "# 4. 5 / 9 = 0.5555...\n",
        "# 5. 0.5555... * 32 = 17.7777...\n",
        "# 6. 17.7777... / 88 = 0.2019...\n",
        "# 7. 9 / 2 = 4.5\n",
        "# 8. 9 * 531.4413... = 4782.972...\n",
        "# 9. 9 * 12 = 108\n",
        "# 10. 75 - 0.2019... = 74.798...\n",
        "# 11. 74.798... - 4.5 = 70.2980...\n",
        "# 12. 70.2980... + 4782.972...= 4853.270...\n",
        "# 13. 4853.270... + 108 = 4961.270...\n",
        "# 14. 4961.270... - 6 = 4955.270..."
      ],
      "metadata": {
        "id": "8QOJHvVtTsoa",
        "outputId": "11b0edfc-4b6c-448a-a10a-29fe74817297",
        "colab": {
          "base_uri": "https://localhost:8080/"
        }
      },
      "execution_count": 5,
      "outputs": [
        {
          "output_type": "stream",
          "name": "stdout",
          "text": [
            "5439.085366506852\n"
          ]
        }
      ]
    },
    {
      "cell_type": "code",
      "source": [
        "# use double backslash to ignore the value after the point .\n",
        "print(12 / 5)\n",
        "print(12 // 5) # use double slashes\n"
      ],
      "metadata": {
        "id": "AU0gxWYfWvwR",
        "outputId": "cb941fa2-4e5d-4bb9-ea52-8b0ff2cd4935",
        "colab": {
          "base_uri": "https://localhost:8080/"
        }
      },
      "execution_count": 8,
      "outputs": [
        {
          "output_type": "stream",
          "name": "stdout",
          "text": [
            "2.4\n",
            "2\n"
          ]
        }
      ]
    }
  ],
  "metadata": {
    "kernelspec": {
      "display_name": "Python 3 (ipykernel)",
      "language": "python",
      "name": "python3"
    },
    "language_info": {
      "codemirror_mode": {
        "name": "ipython",
        "version": 3
      },
      "file_extension": ".py",
      "mimetype": "text/x-python",
      "name": "python",
      "nbconvert_exporter": "python",
      "pygments_lexer": "ipython3",
      "version": "3.9.19"
    },
    "colab": {
      "provenance": []
    }
  },
  "nbformat": 4,
  "nbformat_minor": 0
}