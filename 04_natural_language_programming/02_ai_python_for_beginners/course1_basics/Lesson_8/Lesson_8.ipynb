{
  "cells": [
    {
      "cell_type": "markdown",
      "id": "817221c9",
      "metadata": {
        "id": "817221c9"
      },
      "source": [
        "# L8 : Variables"
      ]
    },
    {
      "cell_type": "markdown",
      "id": "1512b57b",
      "metadata": {
        "id": "1512b57b"
      },
      "source": [
        "In computer programming, <b>variables</b> are used to store, process, and manipulate data. So, let's say you wanted to store `28` in the variable `age`, this is what you would do:"
      ]
    },
    {
      "cell_type": "markdown",
      "source": [],
      "metadata": {
        "id": "Q2VN6sYxsZRI"
      },
      "id": "Q2VN6sYxsZRI"
    },
    {
      "cell_type": "code",
      "execution_count": 1,
      "id": "9ae82ae7",
      "metadata": {
        "id": "9ae82ae7"
      },
      "outputs": [],
      "source": [
        "# name: data-type = value\n",
        "# datatypes = int, str, float, list, bool, dict, set\n",
        "age : int = 20"
      ]
    },
    {
      "cell_type": "markdown",
      "id": "e0d89b8d",
      "metadata": {
        "id": "e0d89b8d"
      },
      "source": [
        "So if you used `print()` with `age` as an argument, you would get the value that you assigned to that variable."
      ]
    },
    {
      "cell_type": "code",
      "execution_count": 2,
      "id": "80b5943a",
      "metadata": {
        "colab": {
          "base_uri": "https://localhost:8080/"
        },
        "id": "80b5943a",
        "outputId": "b437b60f-b3f9-46fb-b492-5afc8724c324"
      },
      "outputs": [
        {
          "output_type": "stream",
          "name": "stdout",
          "text": [
            "20\n",
            "<class 'int'>\n",
            "['as_integer_ratio', 'bit_count', 'bit_length', 'conjugate', 'denominator', 'from_bytes', 'imag', 'numerator', 'real', 'to_bytes']\n"
          ]
        }
      ],
      "source": [
        "print(age)\n",
        "print(type(age))\n",
        "\n",
        "# age is an obj belonging to int class\n",
        "# Objects have methods & attributes\n",
        "# methods = actions (i.e: coding)\n",
        "# attributes = properties (i.e: name)\n",
        "\n",
        "# see all methods and attributes\n",
        "print([i for i in dir(age) if '__' not in i])"
      ]
    },
    {
      "cell_type": "markdown",
      "id": "8ddf96c1",
      "metadata": {
        "id": "8ddf96c1"
      },
      "source": [
        "With `age = 28` you are telling Python to create a variable named `age` and use it to store the value `28`. However, you can change the value assigned to any variable you previously created. For instance, you can assign a value of `5` to `age` using the following code:"
      ]
    },
    {
      "cell_type": "code",
      "execution_count": 3,
      "id": "0cc2c56f",
      "metadata": {
        "id": "0cc2c56f"
      },
      "outputs": [],
      "source": [
        "age: int = 5"
      ]
    },
    {
      "cell_type": "markdown",
      "id": "448a0658",
      "metadata": {
        "id": "448a0658"
      },
      "source": [
        "So if you display `age`, you will get `5` instead of `28`."
      ]
    },
    {
      "cell_type": "code",
      "execution_count": 4,
      "id": "b594137a",
      "metadata": {
        "colab": {
          "base_uri": "https://localhost:8080/"
        },
        "id": "b594137a",
        "outputId": "d49aaa1f-5432-4ac7-947d-263bf9d16aee"
      },
      "outputs": [
        {
          "output_type": "stream",
          "name": "stdout",
          "text": [
            "5\n"
          ]
        }
      ],
      "source": [
        "print(age)"
      ]
    },
    {
      "cell_type": "code",
      "source": [
        "age : int =  5\n",
        "print(age)\n",
        "\n",
        "age = 10\n",
        "print(age)\n",
        "\n",
        "age = age + 5\n",
        "print(age)"
      ],
      "metadata": {
        "colab": {
          "base_uri": "https://localhost:8080/"
        },
        "id": "9B3nCNkcw_lG",
        "outputId": "81e78d83-bff7-4e7d-990c-515b160c5b19"
      },
      "id": "9B3nCNkcw_lG",
      "execution_count": 19,
      "outputs": [
        {
          "output_type": "stream",
          "name": "stdout",
          "text": [
            "5\n",
            "10\n",
            "15\n"
          ]
        }
      ]
    },
    {
      "cell_type": "code",
      "source": [
        "# Mutable: Aise objects jinhein directly modify kiya ja sakta hai bina naye object create kiye. (e.g., list, dict)\n",
        "# Immutable: Aise objects jinhein modify nahi kiya ja sakta; agar aap unhein update karte hain, toh ek naya object create hota hai. (e.g., str, int, float, tuple)\n",
        "\n",
        "# Mutable:(e.g., list, dict)\n",
        "# Immutable:(e.g., str, int, float, tuple)\n",
        "\n",
        "# Example of mutable object (list)\n",
        "my_list = [1, 2, 3]\n",
        "print(my_list)  # Output: [1, 2, 3]\n",
        "\n",
        "my_list.append(4)  # Modifying the list directly\n",
        "print(my_list)  # Output: [1, 2, 3, 4]\n",
        "\n",
        "# Example of immutable object (integer)\n",
        "my_int = 5\n",
        "print(my_int)  # Output: 5\n",
        "\n",
        "# my_int = my_int + 1 # This creates a new integer object.  my_int does not change in place.\n",
        "# print(my_int) # Output: 6\n",
        "\n",
        "my_int += 1 # This creates a new integer object, and reassigns to my_int.\n",
        "print(my_int) # Output: 6\n",
        "\n",
        "# In the provided code, the variable age is reassigned multiple times.  Each assignment creates a new integer object, and variable age references the new integer.\n",
        "# The variable age never changes in-place."
      ],
      "metadata": {
        "id": "b0Ykdj_KGYwm"
      },
      "id": "b0Ykdj_KGYwm",
      "execution_count": 16,
      "outputs": []
    },
    {
      "cell_type": "code",
      "source": [
        "print(age)"
      ],
      "metadata": {
        "colab": {
          "base_uri": "https://localhost:8080/"
        },
        "id": "jOsUFc6fxikk",
        "outputId": "f3ffcc3f-0d64-43cd-fd4c-96722922a341"
      },
      "id": "jOsUFc6fxikk",
      "execution_count": 20,
      "outputs": [
        {
          "output_type": "stream",
          "name": "stdout",
          "text": [
            "15\n"
          ]
        }
      ]
    },
    {
      "cell_type": "markdown",
      "id": "764df696",
      "metadata": {
        "id": "764df696"
      },
      "source": [
        "## Variables store numbers, strings and other type of data"
      ]
    },
    {
      "cell_type": "markdown",
      "id": "3b4f1b37",
      "metadata": {
        "id": "3b4f1b37"
      },
      "source": [
        "Variables can be used to store floating point numbers, integers, strings, and other types of data. For instance, you can create a variable `name` and assign it the string `\"Otto\"`, or a variable `gnome_height` and assign it the floating point number `12.7`."
      ]
    },
    {
      "cell_type": "code",
      "execution_count": 64,
      "id": "d2e765a1",
      "metadata": {
        "id": "d2e765a1"
      },
      "outputs": [],
      "source": [
        "name : str = \"Pitbull\"\n",
        "gnome_height : float = 12.7"
      ]
    },
    {
      "cell_type": "markdown",
      "id": "e6595034",
      "metadata": {
        "id": "e6595034"
      },
      "source": [
        "You can use variables within f-strings to make your output more readable. For example, you can print the value assigned to `age` along with the string `\"Age: \"` so that anyone reading the display will understand what the value represents.\n",
        "\n",
        "Here’s how you can do it:"
      ]
    },
    {
      "cell_type": "code",
      "execution_count": 22,
      "id": "37d2833c",
      "metadata": {
        "colab": {
          "base_uri": "https://localhost:8080/"
        },
        "id": "37d2833c",
        "outputId": "4dfe9172-f31c-4fea-cdfc-b519566123b3"
      },
      "outputs": [
        {
          "output_type": "stream",
          "name": "stdout",
          "text": [
            "Age : 15\n"
          ]
        }
      ],
      "source": [
        "print(f\"Age : {age}\")"
      ]
    },
    {
      "cell_type": "markdown",
      "id": "d156652d",
      "metadata": {
        "id": "d156652d"
      },
      "source": [
        "As another example, let's use f-strings to display the values assigned to `name` and `gnome_height`."
      ]
    },
    {
      "cell_type": "code",
      "execution_count": 25,
      "id": "f4dd9caa",
      "metadata": {
        "colab": {
          "base_uri": "https://localhost:8080/"
        },
        "id": "f4dd9caa",
        "outputId": "a7c196d0-a43a-4ceb-c15a-2555115d19f2"
      },
      "outputs": [
        {
          "output_type": "stream",
          "name": "stdout",
          "text": [
            "Name: ZAIN\n",
            "Gnome_height: 12.7\n"
          ]
        }
      ],
      "source": [
        "print(f\"Name: {name}\")\n",
        "print(f\"Gnome_height: {gnome_height}\")"
      ]
    },
    {
      "cell_type": "markdown",
      "id": "f86ccabc",
      "metadata": {
        "id": "f86ccabc"
      },
      "source": [
        "<b>Important:</b> Variables are case-sensitive, so `Gnome_height` and `gnome_height` are not the same. To see this, you can run the next cell where you will get an error message."
      ]
    },
    {
      "cell_type": "code",
      "execution_count": null,
      "id": "c43043e4",
      "metadata": {
        "colab": {
          "base_uri": "https://localhost:8080/",
          "height": 144
        },
        "id": "c43043e4",
        "outputId": "b5689217-0532-4592-aa30-dc799ca61cdd"
      },
      "outputs": [
        {
          "output_type": "error",
          "ename": "NameError",
          "evalue": "name 'Gnome_height' is not defined",
          "traceback": [
            "\u001b[0;31m---------------------------------------------------------------------------\u001b[0m",
            "\u001b[0;31mNameError\u001b[0m                                 Traceback (most recent call last)",
            "\u001b[0;32m<ipython-input-55-bd4eebcb8952>\u001b[0m in \u001b[0;36m<cell line: 1>\u001b[0;34m()\u001b[0m\n\u001b[0;32m----> 1\u001b[0;31m \u001b[0mprint\u001b[0m\u001b[0;34m(\u001b[0m\u001b[0;34mf\"Gnome height: {Gnome_height}\"\u001b[0m\u001b[0;34m)\u001b[0m\u001b[0;34m\u001b[0m\u001b[0;34m\u001b[0m\u001b[0m\n\u001b[0m",
            "\u001b[0;31mNameError\u001b[0m: name 'Gnome_height' is not defined"
          ]
        }
      ],
      "source": [
        "print(f\"Gnome height: {Gnome_height}\")"
      ]
    },
    {
      "cell_type": "markdown",
      "id": "99c43159-f5b4-4ab5-b9d4-b142979cb172",
      "metadata": {
        "id": "99c43159-f5b4-4ab5-b9d4-b142979cb172"
      },
      "source": [
        "## Variables help you store values that constantly change"
      ]
    },
    {
      "cell_type": "markdown",
      "id": "9154a6a6-ab67-4d96-85fc-5bbfbea65e11",
      "metadata": {
        "id": "9154a6a6-ab67-4d96-85fc-5bbfbea65e11"
      },
      "source": [
        "Take a game where the score starts at zero. In the next cell, you create a variable `score`, assign it the value of `0`, and display the current score."
      ]
    },
    {
      "cell_type": "code",
      "execution_count": 41,
      "id": "5a47354d",
      "metadata": {
        "colab": {
          "base_uri": "https://localhost:8080/"
        },
        "id": "5a47354d",
        "outputId": "7ff38dd6-e65a-4b4f-a702-b52f1e83eb2e"
      },
      "outputs": [
        {
          "output_type": "stream",
          "name": "stdout",
          "text": [
            "0\n",
            "10\n",
            "50\n",
            "150\n",
            "450\n",
            "500\n"
          ]
        }
      ],
      "source": [
        "score : int = 0\n",
        "print(score)\n",
        "\n",
        "score = score + 10\n",
        "print(score)\n",
        "\n",
        "score = score + 40\n",
        "print(score)\n",
        "\n",
        "score = score + 100\n",
        "print(score)\n",
        "\n",
        "score = score + 300\n",
        "print(score)\n",
        "\n",
        "score += 50  # short form .\n",
        "print(score)\n"
      ]
    },
    {
      "cell_type": "markdown",
      "id": "b59c99bb-d58a-4a8e-9f1b-fd2010cf7e12",
      "metadata": {
        "id": "b59c99bb-d58a-4a8e-9f1b-fd2010cf7e12"
      },
      "source": [
        "When the score increases by 50 points, you can update the variable by using its previous value and adding `50`."
      ]
    },
    {
      "cell_type": "code",
      "source": [
        "score = score + 50\n",
        "print(score)"
      ],
      "metadata": {
        "colab": {
          "base_uri": "https://localhost:8080/"
        },
        "id": "Kp2AEHREMZbK",
        "outputId": "397e13a9-bba1-473e-856f-abdb044f03ad"
      },
      "id": "Kp2AEHREMZbK",
      "execution_count": 42,
      "outputs": [
        {
          "output_type": "stream",
          "name": "stdout",
          "text": [
            "550\n"
          ]
        }
      ]
    },
    {
      "cell_type": "markdown",
      "id": "b6d6a85b-c210-4bd3-8cb3-7013775fcec4",
      "metadata": {
        "id": "b6d6a85b-c210-4bd3-8cb3-7013775fcec4"
      },
      "source": [
        "In a similar way, when the score increases by 100 points, the variable `score` can be updated by adding `100` to the previous value stored in `score`."
      ]
    },
    {
      "cell_type": "code",
      "source": [
        "score = score + 100\n",
        "print(score)"
      ],
      "metadata": {
        "colab": {
          "base_uri": "https://localhost:8080/"
        },
        "id": "UBR_3AFqMahu",
        "outputId": "5e6feae0-b2ef-46b5-b71c-3cad3d3ac5ec"
      },
      "id": "UBR_3AFqMahu",
      "execution_count": 43,
      "outputs": [
        {
          "output_type": "stream",
          "name": "stdout",
          "text": [
            "650\n"
          ]
        }
      ]
    },
    {
      "cell_type": "markdown",
      "id": "cbd2c6e3-edd1-42fc-9f3b-b4b1eed37412",
      "metadata": {
        "id": "cbd2c6e3-edd1-42fc-9f3b-b4b1eed37412"
      },
      "source": [
        "And, after scoring an extra 300 points, the variable `score` is updated by adding `300` to the previous value stored in `score`."
      ]
    },
    {
      "cell_type": "code",
      "source": [
        "score = score + 300\n",
        "print(score)"
      ],
      "metadata": {
        "colab": {
          "base_uri": "https://localhost:8080/"
        },
        "id": "1NEjjLEjMYez",
        "outputId": "71bd39a7-c318-4aa4-d8f4-dc53480722f8"
      },
      "id": "1NEjjLEjMYez",
      "execution_count": 44,
      "outputs": [
        {
          "output_type": "stream",
          "name": "stdout",
          "text": [
            "950\n"
          ]
        }
      ]
    },
    {
      "cell_type": "markdown",
      "id": "50b3f514-dd75-475c-819f-ad55e93f2728",
      "metadata": {
        "id": "50b3f514-dd75-475c-819f-ad55e93f2728"
      },
      "source": [
        "So at the end, the variable `score` stores the most updated score value.\n",
        "\n",
        "You can print the final score using an f-string as shown in the cell below:"
      ]
    },
    {
      "cell_type": "code",
      "execution_count": 46,
      "id": "4a0cc976",
      "metadata": {
        "colab": {
          "base_uri": "https://localhost:8080/"
        },
        "id": "4a0cc976",
        "outputId": "d8565b1d-7a3d-4273-f516-1fb44e8eda12"
      },
      "outputs": [
        {
          "output_type": "stream",
          "name": "stdout",
          "text": [
            "Your final score was: 950\n"
          ]
        }
      ],
      "source": [
        "print(f\"Your final score was: {score}\") # print 950"
      ]
    },
    {
      "cell_type": "markdown",
      "id": "8c98ef76-dbc5-46e9-bfea-44e1eead9e19",
      "metadata": {
        "id": "8c98ef76-dbc5-46e9-bfea-44e1eead9e19"
      },
      "source": [
        "## Variable names restrictions"
      ]
    },
    {
      "cell_type": "markdown",
      "id": "a521e742-511b-4d4d-b07c-248ec3d5e43d",
      "metadata": {
        "id": "a521e742-511b-4d4d-b07c-248ec3d5e43d"
      },
      "source": [
        "To demonstrate an important fact about variable names in Python, try to run the code below."
      ]
    },
    {
      "cell_type": "code",
      "execution_count": 49,
      "id": "42e3bcd2",
      "metadata": {
        "id": "42e3bcd2"
      },
      "outputs": [],
      "source": [
        "# No special character like space here i.e ( + - , * )\n",
        "my_score: int = 450"
      ]
    },
    {
      "cell_type": "markdown",
      "id": "a4b2761a-e06d-46a3-a68f-1b6017a81881",
      "metadata": {
        "id": "a4b2761a-e06d-46a3-a68f-1b6017a81881"
      },
      "source": [
        "Now, ask the chatbot why that code didn't work. You can use the prompt suggested here.\n",
        "\n",
        "<p style=\"background-color:#F5C780; padding:15px\"> 🤖 <b>Use the Chatbot</b>: Why doesn't this code work? my score = 450\n",
        "</p>"
      ]
    },
    {
      "cell_type": "code",
      "source": [
        "# prompt: Why doesn't this code work? my score = 450\n",
        "\n",
        "# The code \"my score = 450\" doesn't work because variable names in Python cannot contain spaces.\n",
        "# Python variable names must follow specific rules:\n",
        "#\n",
        "# 1. They can only contain letters (a-z, A-Z), numbers (0-9), and underscores (_).\n",
        "# 2. They cannot start with a number.\n",
        "# 3. They are case-sensitive (myScore and myScore are different variables).\n",
        "#\n",
        "# In the example \"my score = 450\", the space between \"my\" and \"score\" violates the first rule, making it an invalid variable name.\n",
        "#\n",
        "# To fix it, you could use an underscore to replace the space:\n",
        "# my_score = 450\n",
        "#\n",
        "# Or you could combine the words without a space:\n",
        "# myscore = 450"
      ],
      "metadata": {
        "id": "f10I8oOp1oZT"
      },
      "id": "f10I8oOp1oZT",
      "execution_count": null,
      "outputs": []
    },
    {
      "cell_type": "markdown",
      "id": "5aece0d4",
      "metadata": {
        "id": "5aece0d4"
      },
      "source": [
        "## Variables allow you to code efficiently!"
      ]
    },
    {
      "cell_type": "markdown",
      "id": "a5e87451",
      "metadata": {
        "id": "a5e87451"
      },
      "source": [
        "Recall the dog age example that you saw in previous lessons. Assuming that Otto is 49 years old, you can display his dog age by using `print(49 / 7)`."
      ]
    },
    {
      "cell_type": "code",
      "execution_count": 50,
      "id": "1643e928",
      "metadata": {
        "colab": {
          "base_uri": "https://localhost:8080/"
        },
        "id": "1643e928",
        "outputId": "30a08f18-5637-4163-db49-b42827b8bc26"
      },
      "outputs": [
        {
          "output_type": "stream",
          "name": "stdout",
          "text": [
            "7.0\n"
          ]
        }
      ],
      "source": [
        "print(49 / 7)"
      ]
    },
    {
      "cell_type": "markdown",
      "id": "e3de9f60",
      "metadata": {
        "id": "e3de9f60"
      },
      "source": [
        "Using f-strings so that it is clear what you are displaying, you would use code similar to the one in the cell below."
      ]
    },
    {
      "cell_type": "code",
      "execution_count": 52,
      "id": "4db3559f",
      "metadata": {
        "colab": {
          "base_uri": "https://localhost:8080/"
        },
        "id": "4db3559f",
        "outputId": "736e3d12-8d3b-4376-df28-312398c57198"
      },
      "outputs": [
        {
          "output_type": "stream",
          "name": "stdout",
          "text": [
            "Otto's age in dog years is 7.0\n"
          ]
        }
      ],
      "source": [
        "print(f\"Otto's age in dog years is {49 / 7}\")"
      ]
    },
    {
      "cell_type": "markdown",
      "id": "98904686",
      "metadata": {
        "id": "98904686"
      },
      "source": [
        "Alternatively, now that you have seen how variables work, you can compute Otto's dog age and assign it to the variable `dog_age`."
      ]
    },
    {
      "cell_type": "code",
      "execution_count": 54,
      "id": "a9918f72",
      "metadata": {
        "id": "a9918f72",
        "colab": {
          "base_uri": "https://localhost:8080/"
        },
        "outputId": "d3502205-5964-4f49-87b6-24b20c469359"
      },
      "outputs": [
        {
          "output_type": "stream",
          "name": "stdout",
          "text": [
            "7.0\n"
          ]
        }
      ],
      "source": [
        "dog_age: float = 49 / 7\n",
        "print(dog_age)"
      ]
    },
    {
      "cell_type": "markdown",
      "id": "8db0f9f6",
      "metadata": {
        "id": "8db0f9f6"
      },
      "source": [
        "You can see how this would be an advantage if you consider the following scenario. Let's say you want to display an f-string with Otto's dog age multiple times. Without using variables, you would need to compute his dog age as many times as you refer to it."
      ]
    },
    {
      "cell_type": "code",
      "execution_count": 57,
      "id": "2874dcd1",
      "metadata": {
        "colab": {
          "base_uri": "https://localhost:8080/"
        },
        "id": "2874dcd1",
        "outputId": "407c871f-7bcc-4353-d4b9-9d638c60b52b"
      },
      "outputs": [
        {
          "output_type": "stream",
          "name": "stdout",
          "text": [
            "Otto's dog age is 7.0. So a dog that's about\n",
            "7.0 would be the same age as Otto. Any dog born about 9.8\n",
            "years ago would be in the same stage of life as Otto.\n"
          ]
        }
      ],
      "source": [
        "print(f\"\"\"Otto's dog age is {49/7}. So a dog that's about\n",
        "{49/7} would be the same age as Otto. Any dog born about {49/7}\n",
        "years ago would be in the same stage of life as Otto.\"\"\")"
      ]
    },
    {
      "cell_type": "markdown",
      "id": "335511cc",
      "metadata": {
        "id": "335511cc"
      },
      "source": [
        "If Otto became a year older, you would need to change the values in each of the curly braces to `50/7`. Instead, if you used an f-string with the `dog_age` variable as the one below:"
      ]
    },
    {
      "cell_type": "code",
      "execution_count": 58,
      "id": "98bf95bf",
      "metadata": {
        "colab": {
          "base_uri": "https://localhost:8080/"
        },
        "id": "98bf95bf",
        "outputId": "3dbc3679-513c-41cc-82e9-dc7c8980ec32"
      },
      "outputs": [
        {
          "output_type": "stream",
          "name": "stdout",
          "text": [
            "Otto's dog age is 7.0. So a dog that's about\n",
            "7.0 would be the same age as Otto. Any dog born about 7.0\n",
            "years ago would be in the same stage of life as Otto.\n"
          ]
        }
      ],
      "source": [
        "print(f\"\"\"Otto's dog age is {dog_age}. So a dog that's about\n",
        "{dog_age} would be the same age as Otto. Any dog born about {dog_age}\n",
        "years ago would be in the same stage of life as Otto.\"\"\")"
      ]
    },
    {
      "cell_type": "markdown",
      "id": "bc58205f",
      "metadata": {
        "id": "bc58205f"
      },
      "source": [
        "You will only need to update `dog_age` with Otto's new equivalent dog age:"
      ]
    },
    {
      "cell_type": "code",
      "execution_count": 59,
      "id": "e7652ae2",
      "metadata": {
        "id": "e7652ae2"
      },
      "outputs": [],
      "source": [
        "# Override\n",
        "dog_age = 50/7"
      ]
    },
    {
      "cell_type": "markdown",
      "id": "87549ba8",
      "metadata": {
        "id": "87549ba8"
      },
      "source": [
        "And use the same f-string that you used before without editing. By defining a variable once, you can use it in multiple places, which makes computer programs much more efficient."
      ]
    },
    {
      "cell_type": "code",
      "execution_count": 60,
      "id": "9df1557b",
      "metadata": {
        "colab": {
          "base_uri": "https://localhost:8080/"
        },
        "id": "9df1557b",
        "outputId": "d161865a-5ae0-414b-844e-a112e822b810"
      },
      "outputs": [
        {
          "output_type": "stream",
          "name": "stdout",
          "text": [
            "Otto's dog age is 7.142857142857143. So a dog that's about\n",
            "7.142857142857143 would be the same age as Otto. Any dog born about 7.142857142857143\n",
            "years ago would be in the same stage of life as Otto.\n"
          ]
        }
      ],
      "source": [
        "print(f\"\"\"Otto's dog age is {dog_age}. So a dog that's about\n",
        "{dog_age} would be the same age as Otto. Any dog born about {dog_age}\n",
        "years ago would be in the same stage of life as Otto.\"\"\")"
      ]
    },
    {
      "cell_type": "markdown",
      "id": "c2fd294e",
      "metadata": {
        "id": "c2fd294e"
      },
      "source": [
        "As another example, you can replace the name \"Otto\" with the variable `name` in curly braces."
      ]
    },
    {
      "cell_type": "code",
      "execution_count": 65,
      "id": "d75fdd48",
      "metadata": {
        "colab": {
          "base_uri": "https://localhost:8080/"
        },
        "id": "d75fdd48",
        "outputId": "4adfda4c-0ed0-42ab-ea7c-ab7eef5f9b1d"
      },
      "outputs": [
        {
          "output_type": "stream",
          "name": "stdout",
          "text": [
            "Pitbull's dog age is 7.142857142857143. So a dog that's about\n",
            "7.142857142857143 would be the same age as Pitbull. Any dog born about 7.142857142857143\n",
            "years ago would be in the same stage of life as Pitbull.\n"
          ]
        }
      ],
      "source": [
        "print(f\"\"\"{name}'s dog age is {dog_age}. So a dog that's about\n",
        "{dog_age} would be the same age as {name}. Any dog born about {dog_age}\n",
        "years ago would be in the same stage of life as {name}.\"\"\")"
      ]
    },
    {
      "cell_type": "markdown",
      "id": "18ea082a",
      "metadata": {
        "id": "18ea082a"
      },
      "source": [
        "This way, you can change Otto's name to his first and last name:"
      ]
    },
    {
      "cell_type": "code",
      "execution_count": 66,
      "id": "1b6d403b",
      "metadata": {
        "id": "1b6d403b"
      },
      "outputs": [],
      "source": [
        "name = \"Otto Liam\""
      ]
    },
    {
      "cell_type": "markdown",
      "id": "8ace1ea1",
      "metadata": {
        "id": "8ace1ea1"
      },
      "source": [
        "And use the f-string where the change is reflected in all places where the variable `name` appears."
      ]
    },
    {
      "cell_type": "code",
      "execution_count": 67,
      "id": "21d5d631",
      "metadata": {
        "colab": {
          "base_uri": "https://localhost:8080/"
        },
        "id": "21d5d631",
        "outputId": "d6974ec3-2914-42dd-de76-3dcb0e30309c"
      },
      "outputs": [
        {
          "output_type": "stream",
          "name": "stdout",
          "text": [
            "Otto Liam's dog age is 7.142857142857143. So a dog that's about\n",
            "7.142857142857143 would be the same age as Otto Liam. Any dog born about 7.142857142857143\n",
            "years ago would be in the same stage of life as Otto Liam.\n"
          ]
        }
      ],
      "source": [
        "print(f\"\"\"{name}'s dog age is {dog_age}. So a dog that's about\n",
        "{dog_age} would be the same age as {name}. Any dog born about {dog_age}\n",
        "years ago would be in the same stage of life as {name}.\"\"\")"
      ]
    },
    {
      "cell_type": "markdown",
      "id": "98ec7de7",
      "metadata": {
        "id": "98ec7de7"
      },
      "source": [
        "## Extra practice\n",
        "\n",
        "Try the exercises below to practice the concepts from this lesson. Read the comments in each cell with the instructions for each exercise.\n",
        "\n",
        "<b>Feel free to use the chatbot if you need help.</b>"
      ]
    },
    {
      "cell_type": "code",
      "execution_count": 73,
      "id": "4e522416",
      "metadata": {
        "colab": {
          "base_uri": "https://localhost:8080/"
        },
        "id": "4e522416",
        "outputId": "3e61cd50-9517-4ada-b0af-182d3388f86c"
      },
      "outputs": [
        {
          "output_type": "stream",
          "name": "stdout",
          "text": [
            "Hello, ZAIN!\n"
          ]
        }
      ],
      "source": [
        "# Create a variable called 'my_name' and assign it the value of your name as a string.\n",
        "# Then print out a greeting using the variable, like \"Hello, Sameer!\"\n",
        "my_name : str = \"ZAIN\"\n",
        "print(f\"Hello, {my_name}!\")"
      ]
    },
    {
      "cell_type": "code",
      "execution_count": 74,
      "id": "8124eec4",
      "metadata": {
        "id": "8124eec4",
        "colab": {
          "base_uri": "https://localhost:8080/"
        },
        "outputId": "6cc81b34-0cc6-4d89-993a-cd31943535ca"
      },
      "outputs": [
        {
          "output_type": "stream",
          "name": "stdout",
          "text": [
            "Your favourite number plus 10 is 37\n"
          ]
        }
      ],
      "source": [
        "# Enter your favorite number below and store it in a variable called 'fav_num'.\n",
        "# Print out a message telling you what your favorite number plus 10 is.\n",
        "fav_num : int = 27\n",
        "print(f\"Your favourite number plus 10 is {fav_num + 10}\")"
      ]
    },
    {
      "cell_type": "code",
      "execution_count": 78,
      "id": "1bc3acdd",
      "metadata": {
        "id": "1bc3acdd",
        "colab": {
          "base_uri": "https://localhost:8080/"
        },
        "outputId": "1931545f-5d6d-4eb5-d8ce-941fb07823fa"
      },
      "outputs": [
        {
          "output_type": "stream",
          "name": "stdout",
          "text": [
            "I have visited 7 countries. I plan to visit 13 more countries,\n",
            "      and when I'm done I will have visited 20 countries.\n"
          ]
        }
      ],
      "source": [
        "# Create two variables, 'countries_visited' and 'countries_to_visit' and assign them the number of\n",
        "# countries you've been to and the number of countries you hope to visit. Then complete the print statement.\n",
        "\n",
        "countries_visited : int = 7\n",
        "countries_to_visit : int = 13\n",
        "\n",
        "print(f\"\"\"I have visited {countries_visited} countries. I plan to visit {countries_to_visit} more countries,\n",
        "      and when I'm done I will have visited {countries_visited + countries_to_visit} countries.\"\"\")"
      ]
    }
  ],
  "metadata": {
    "kernelspec": {
      "display_name": "Python 3 (ipykernel)",
      "language": "python",
      "name": "python3"
    },
    "language_info": {
      "codemirror_mode": {
        "name": "ipython",
        "version": 3
      },
      "file_extension": ".py",
      "mimetype": "text/x-python",
      "name": "python",
      "nbconvert_exporter": "python",
      "pygments_lexer": "ipython3",
      "version": "3.9.19"
    },
    "colab": {
      "provenance": []
    }
  },
  "nbformat": 4,
  "nbformat_minor": 5
}